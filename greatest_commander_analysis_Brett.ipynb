{
 "cells": [
  {
   "cell_type": "markdown",
   "metadata": {},
   "source": [
    "![](https://pre00.deviantart.net/975f/th/pre/f/2016/184/5/d/game_of_thrones_house_sigil_folder_icons_by_katsy0-da8knil.png)\n",
    "\n",
    "\n",
    "# Who is the Greatest Commander in the War of Five Kings?\n",
    "\n",
    "- By Chris Albon (@ChrisAlbon)\n",
    "- Date: December 8, 2014\n",
    "- Description: Find out who is the greatest commander in the The War of Five Kings.\n",
    "- Dataset: [Battles in the War of Five Kings](https://github.com/chrisalbon/war_of_the_five_kings_dataset)"
   ]
  },
  {
   "cell_type": "markdown",
   "metadata": {},
   "source": [
    "## Preliminaries"
   ]
  },
  {
   "cell_type": "code",
   "execution_count": 1,
   "metadata": {
    "collapsed": true
   },
   "outputs": [],
   "source": [
    "# Import required modules\n",
    "\n",
    "# Set ipython's max row display\n",
    "\n",
    "# Set iPython's max column width to 50\n"
   ]
  },
  {
   "cell_type": "code",
   "execution_count": 2,
   "metadata": {
    "collapsed": true
   },
   "outputs": [],
   "source": [
    "# Load the dataset\n"
   ]
  },
  {
   "cell_type": "markdown",
   "metadata": {},
   "source": [
    "## Quick glance at the data"
   ]
  },
  {
   "cell_type": "code",
   "execution_count": 2,
   "metadata": {},
   "outputs": [],
   "source": [
    "# View the top 3 rows\n"
   ]
  },
  {
   "cell_type": "markdown",
   "metadata": {},
   "source": [
    "## Data wrangling"
   ]
  },
  {
   "cell_type": "code",
   "execution_count": 4,
   "metadata": {
    "collapsed": true
   },
   "outputs": [],
   "source": [
    "# Create a list of attacking commanders\n",
    "\n",
    "\n",
    "# For each row in df['attacker_commander'],\n",
    "    # if the cell is a string,\n",
    "        # split up the names by the comma, \n",
    "        #and attach it to attacker commander list,\n",
    "    # otherwise,     \n",
    "        # do nothing\n",
    "\n",
    "\n",
    "# Create a list of defending commanders\n",
    "\n",
    "        \n",
    "# For each row in df.defender_commander,\n",
    "    # if the cell is a string,\n",
    "        # split up the names by the comma, \n",
    "        #and attach it to defender commander list,\n",
    "    # otherwise\n",
    "        # do nothing"
   ]
  },
  {
   "cell_type": "code",
   "execution_count": 5,
   "metadata": {
    "collapsed": true
   },
   "outputs": [],
   "source": [
    "# Create a list of commanders\n",
    "\n",
    "# For each list in attacker_list,\n",
    "    # and each list in that list\n",
    "        # strip of any leading blank space \n",
    "        # and append it to the commander list\n",
    "        \n",
    "\n",
    "# For each list in defender_list,\n",
    "for row in defender_list:\n",
    "    # and each list in that list\n",
    "    for element in row:\n",
    "        # strip of any leading blank space \n",
    "        # and append it to the commander list\n",
    "        commander.append(element.lstrip())"
   ]
  },
  {
   "cell_type": "code",
   "execution_count": 3,
   "metadata": {},
   "outputs": [],
   "source": [
    "# Convert the commander list into a \n",
    "# set of unique names, and convert it to a list\n",
    "\n",
    "# Display the total number of commanders in the list\n"
   ]
  },
  {
   "cell_type": "code",
   "execution_count": 7,
   "metadata": {
    "collapsed": true
   },
   "outputs": [],
   "source": [
    "#  Count the number of times a commander successfully attacked\n",
    "\n",
    "# Create a list\n",
    "\n",
    "\n",
    "# for each commander:\n",
    "    # create a score variable, then\n",
    "    # go through each cell of attacker commander where the attacker wins:\n",
    "        # if the cell is a string\n",
    "            # and if the commander is in the cell\n",
    "                # add one to score\n",
    "            # if not\n",
    "                # add 0 to score\n",
    "        # if the cell is not a string        \n",
    "            # do nothing\n",
    "\n",
    "    # append the score to the list\n"
   ]
  },
  {
   "cell_type": "code",
   "execution_count": 8,
   "metadata": {
    "collapsed": true
   },
   "outputs": [],
   "source": [
    "#  Count the number of times a commander unsuccessfully attacked\n",
    "\n",
    "# Create a list\n",
    "\n",
    "\n",
    "# for each commander:\n",
    "    # create a score variable\n",
    "    # go through each cell of attacker commander where the attacker loses:\n",
    "        # if the cell is a string\n",
    "            # and if the commander is in the cell\n",
    "                # add one to score\n",
    "            # if not\n",
    "                # add 0 to score\n",
    "        # if the cell is not a string        \n",
    "            # do nothing\n",
    "            \n",
    "    # append the score to the list\n"
   ]
  },
  {
   "cell_type": "code",
   "execution_count": 9,
   "metadata": {
    "collapsed": true
   },
   "outputs": [],
   "source": [
    "#  Count the number of times a commander successfully defended\n",
    "\n",
    "# Create a list\n",
    "\n",
    "\n",
    "# for each commander:\n",
    "    # create a score variable\n",
    "    # go through each cell of defender commander where the attacker losses:\n",
    "        # if the cell is a string\n",
    "            # and if the commander is in the cell\n",
    "                # add one to score\n",
    "            # if not\n",
    "                # add 0 to score\n",
    "        # if the cell is not a string        \n",
    "            # do nothing\n",
    " \n",
    "    # append the score to the list\n"
   ]
  },
  {
   "cell_type": "code",
   "execution_count": 10,
   "metadata": {
    "collapsed": true
   },
   "outputs": [],
   "source": [
    "#  Count the number of times a commander unsuccessfully defended\n",
    "\n",
    "# Create a list\n",
    "\n",
    "\n",
    "# for each commander:\n",
    "    # create a score variable\n",
    "    # go through each cell of defender commander where the attacker wins:\n",
    "        # if the cell is a string\n",
    "            # and if the commander is in the cell\n",
    "                # add one to score\n",
    "            # if not\n",
    "                # add 0 to score\n",
    "        # if the cell is not a string        \n",
    "            # do nothing\n",
    "\n",
    "    # append the score to the list\n"
   ]
  },
  {
   "cell_type": "code",
   "execution_count": 11,
   "metadata": {
    "collapsed": true
   },
   "outputs": [],
   "source": [
    "# Create a dictionary of the four score lists\n",
    "\n",
    "# Create a dataframe from that dictionary, indexed by a commander's name\n"
   ]
  },
  {
   "cell_type": "code",
   "execution_count": 32,
   "metadata": {
    "collapsed": true
   },
   "outputs": [],
   "source": [
    "# Count the total attacks for for each commander\n",
    "\n",
    "# Count the total defends for for each commander\n",
    "\n",
    "# Count the total wins for for each commander\n",
    "\n",
    "# Count the total losses for for each commander\n",
    "\n",
    "# Create a total number of battles for each commander\n",
    "\n",
    "# Create a win percentage score (total wins / total battles) for each commander\n",
    "\n",
    "# Create a composite score (total number of wins minus total number of losses) for each commander\n"
   ]
  },
  {
   "cell_type": "markdown",
   "metadata": {},
   "source": [
    "## Analysis"
   ]
  },
  {
   "cell_type": "code",
   "execution_count": 4,
   "metadata": {},
   "outputs": [],
   "source": [
    "# Top 10 Most Active Commanders \n"
   ]
  },
  {
   "cell_type": "code",
   "execution_count": 5,
   "metadata": {},
   "outputs": [],
   "source": [
    "# Top 10 Most Active Attackers \n"
   ]
  },
  {
   "cell_type": "code",
   "execution_count": 6,
   "metadata": {},
   "outputs": [],
   "source": [
    "# Top 10 Most Active Defenders \n"
   ]
  },
  {
   "cell_type": "code",
   "execution_count": 7,
   "metadata": {},
   "outputs": [],
   "source": [
    "# Top 10 Most Victorious Commanders\n"
   ]
  },
  {
   "cell_type": "code",
   "execution_count": 8,
   "metadata": {},
   "outputs": [],
   "source": [
    "# Top 30 Most Losing Commanders\n"
   ]
  },
  {
   "cell_type": "code",
   "execution_count": 9,
   "metadata": {},
   "outputs": [],
   "source": [
    "# Commanders With The Best Win Percentage\n"
   ]
  },
  {
   "cell_type": "code",
   "execution_count": 10,
   "metadata": {},
   "outputs": [],
   "source": [
    "# Top 10 Greatest Commanders\n"
   ]
  },
  {
   "cell_type": "markdown",
   "metadata": {},
   "source": [
    "## A little more data wrangling for the tie-breaker"
   ]
  },
  {
   "cell_type": "code",
   "execution_count": 24,
   "metadata": {
    "collapsed": true
   },
   "outputs": [],
   "source": [
    "# Create a list with the defender/attacker \n",
    "# ratios for each battle Jaime Lannister fought\n",
    "\n",
    "\n",
    "# Create a list with the defender/attacker \n",
    "# ratios for each battle Robb Stark fought\n",
    "\n",
    "\n",
    "# Create a list with the defender/attacker \n",
    "# ratios for each battle Gregor Clegane fought\n",
    "\n",
    "\n",
    "# Create a count variable\n",
    "\n",
    "\n",
    "# For each row in df.attacker_commander where the attacker wins,\n",
    "        # if the row is a string (this means we skip np.nan's, which are floats)\n",
    "            # if the row contains this name\n",
    "                # divide the size of the defender's army with the size of the attacker's army\n",
    "            # if the row contains this name\n",
    "                # divide the size of the defender's army with the size of the attacker's army\n",
    "            # if the row contains this name\n",
    "                # divide the size of the defender's army with the size of the attacker's army\n",
    "            # otherwise\n",
    "                # do nothing\n",
    "        \n",
    "        # and add 1 to the counter variable\n"
   ]
  },
  {
   "cell_type": "code",
   "execution_count": 25,
   "metadata": {
    "collapsed": true
   },
   "outputs": [],
   "source": [
    "# Create an empty dataframe\n",
    "\n",
    "\n",
    "# Create three columns for the dataframe for each commander's ratios\n"
   ]
  },
  {
   "cell_type": "code",
   "execution_count": 11,
   "metadata": {},
   "outputs": [],
   "source": [
    "# Display the ratios of each commander's four battles\n"
   ]
  },
  {
   "cell_type": "markdown",
   "metadata": {},
   "source": [
    "## Tie-breaker results"
   ]
  },
  {
   "cell_type": "code",
   "execution_count": 12,
   "metadata": {},
   "outputs": [],
   "source": [
    "# Print a plain English sentence that includes the mean ratio (rounded to two decimals)\n",
    "\n",
    "# Print a plain English sentence that includes the mean ratio (rounded to two decimals)\n",
    "\n",
    "# Print a plain English sentence that includes the mean ratio (rounded to two decimals)\n"
   ]
  },
  {
   "cell_type": "markdown",
   "metadata": {},
   "source": [
    "### Who is the greatest commander in Westeros?"
   ]
  },
  {
   "cell_type": "markdown",
   "metadata": {},
   "source": []
  }
 ],
 "metadata": {
  "kernelspec": {
   "display_name": "Python 3",
   "language": "python",
   "name": "python3"
  },
  "language_info": {
   "codemirror_mode": {
    "name": "ipython",
    "version": 3
   },
   "file_extension": ".py",
   "mimetype": "text/x-python",
   "name": "python",
   "nbconvert_exporter": "python",
   "pygments_lexer": "ipython3",
   "version": "3.6.3"
  }
 },
 "nbformat": 4,
 "nbformat_minor": 1
}
